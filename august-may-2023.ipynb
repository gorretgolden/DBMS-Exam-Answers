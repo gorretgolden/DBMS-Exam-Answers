{
 "cells": [
  {
   "cell_type": "markdown",
   "metadata": {},
   "source": [
    "<h3>AUGUST MAY 2023 </h3>"
   ]
  },
  {
   "cell_type": "markdown",
   "metadata": {},
   "source": [
    "<h3>SECTION A </h3>"
   ]
  },
  {
   "cell_type": "markdown",
   "metadata": {},
   "source": [
    "<h4>Part A. With examples explain each of the following in Databases</h4>"
   ]
  },
  {
   "cell_type": "markdown",
   "metadata": {},
   "source": [
    "<p>(a) A Database is a shared logical organization of data stored to meet the user needs </p>\n",
    "<p>(b) A Database Management System DBMS is a software that is used to create, define,access and manipulate the database </p>\n",
    "<p>(c)A Database Application Program  is an application designed to interact with a database by allowing users to create, read, update, and delete (CRUD) data stored within a database management system (DBMS) eg a CRM system.</p>\n",
    "<p>(d) A base Relation is a table that physically stores the actual data and doesn't rely on other tables or views for its existence. It's a persistent entity in the database. eg a customers table.</p>\n",
    "<p>(e) A view is a virtual table that is derived from a base relation or a combination of multiple base relations. It does not store data itself it’s just a stored query that pulls data from one or more base relations.Eg a products table from which we can create a view that shows only the products in the Electronics category.</p>"
   ]
  },
  {
   "cell_type": "markdown",
   "metadata": {},
   "source": []
  },
  {
   "cell_type": "markdown",
   "metadata": {},
   "source": [
    "<h4>Part b: Explain what you understand by a manual filing system, file based approach and database approach </h4>"
   ]
  },
  {
   "cell_type": "markdown",
   "metadata": {},
   "source": [
    "<p>A manual filing system involves physically storing documents, papers, or files in cabinets or folders. Information is recorded and accessed manually by searching through physical records.</p>\n",
    "<p>A File Based Approach refers to the use of digital files to store data on a computer. These files may be organized into directories, and each file holds structured or unstructured data. Common formats include text files, spreadsheets, or specialized formats like CSV or JSON.</p>\n",
    "<p>A database approach involves using a Database Management System (DBMS) to store, manage, and query data in a structured and centralized manner. It organizes data in tables, using a relational model (for relational databases) or other models like NoSQL.</p>"
   ]
  },
  {
   "cell_type": "markdown",
   "metadata": {},
   "source": [
    "<p>Limitations of the file based approach</p>\n",
    "<ul>\n",
    "<li>Separation and Isolation of data</li>\n",
    "<li>Data Redundacy, in a file-based system, the same data may be stored in multiple files, leading to redundancy.</li>\n",
    "<li> Lack of Scalability, file-based systems do not scale well with increasing data size or complexity. As the volume of data grows, managing and accessing the data through files becomes progressively more difficult.</li>\n",
    "<li>Difficulty in Data Sharing: Since data is stored in separate, often disconnected files, it becomes difficult to share data across different applications or among different users.</li>\n",
    "<li>No Centralized Data Control: Each file is managed independently, and there is no centralized control over how data is stored, accessed, or updated.</li>\n",
    "<li>Data Dependence,  </li>\n",
    "<li>Fixed Queries</li>\n",
    "<li>Lack of Data Integrity: The file-based approach does not have built-in mechanisms for enforcing data integrity. There are no constraints or rules that automatically ensure data consistency or prevent invalid data from being entered</li>\n",
    "</ul>"
   ]
  },
  {
   "cell_type": "markdown",
   "metadata": {},
   "source": [
    "<p>Limitations of the manual filing approach that led to use of file-based systems</p>\n",
    "<ul>\n",
    "<li> Time-Consuming Data Retrieval, searching through physical files manually is time-consuming and can take a long time, especially when files are not organized or indexed properly</li>\n",
    "<li> Risk of Data Loss or Damage, physical records are vulnerable to being lost, damaged, or destroyed due to environmental factors (e.g., fire, water damage, or theft).</li>\n",
    "<li> Physical Space Requirements, storing large volumes of physical documents requires significant physical space (e.g., filing cabinets, storage rooms).</li>\n",
    "<li>Limited Accessibility,physical records can only be accessed by individuals who are physically present at the location where the files are stored.</li>\n",
    "</ul>"
   ]
  },
  {
   "cell_type": "markdown",
   "metadata": {},
   "source": []
  },
  {
   "cell_type": "markdown",
   "metadata": {},
   "source": [
    "<h4>Part C:Discuss the five components of the DBMS Environment and discuss how they relate with each other</h4>"
   ]
  },
  {
   "cell_type": "markdown",
   "metadata": {},
   "source": []
  },
  {
   "cell_type": "markdown",
   "metadata": {},
   "source": [
    "<p>Hardware, this component is made up of the tangible devices like the computers, servers and network devices supporting access of the database</p>\n",
    "<p>Software, this component consists of application programs that interact with the DBMS and also DBMS software</p>\n",
    "<p>Data, these are raw facts and it can be made up of metadata to describe the database and operational data from end users, it acts as a bridge between the machine components and human components</p>\n",
    "<p>Procedures, refer to the instructions and rules that govern the design and use of the database. The users of the system and the staff who manage the database require documented procedures on how to use or run the system. These may consist of \n",
    "instructions on how to: • Log on to the DBMS, • Use a particular DBMS facility or application program</p>\n",
    "<p>People, the final component is the people involved with the system, eg the Database Administrators that create and assign roles to users, Database Designers that identify user requirements for designing the db, end users that access the database based on their roles<p>"
   ]
  },
  {
   "cell_type": "markdown",
   "metadata": {},
   "source": [
    "<p>Part C (d) Outline the roles/personnels in the Database Environment</p>"
   ]
  },
  {
   "cell_type": "markdown",
   "metadata": {},
   "source": [
    "<p>Data Administrator: is responsible for the management of the data resource, including database planning; development and maintenance of standards, policies and procedures and conceptual/logical database design. The DA consults with and \n",
    "advises senior managers, ensuring that the direction of database development will ultimately support corporate objective</p>\n",
    "<p>Database Administrator (DBA): is responsible for the physical realization of the database, including physical database design and implementation, security and integrity control, maintenance of the operational system, and ensuring satisfactory  performance of the applications for users. The role of the DBA is more technically oriented than the role of the DA, requiring detailed knowledge of the target DBMS and the system environment.</p>\n",
    "<p>Database Designers, this includes the logical database designer that is concerned with identifying the data (that is, the entities and attributes), the relationships between the data, and the constraints on the data that is to be stored in the database. he physical database designer decides how the logical database design is to be physically realized. This involves:\n",
    "mapping the logical database design into a set of tables and integrity constraints selecting specific storage structures and access methods for the data to achieve good performance</p>\n",
    "<p>Application Developers that develop the application programs to interact with the database</p>\n",
    "<p>End Users, the end-users are the clients of the database, which has been designed and implemented and is being maintained to serve their information needs, they include naive users and sophiscated users</p>"
   ]
  },
  {
   "cell_type": "markdown",
   "metadata": {},
   "source": []
  }
 ],
 "metadata": {
  "language_info": {
   "name": "python"
  }
 },
 "nbformat": 4,
 "nbformat_minor": 2
}
