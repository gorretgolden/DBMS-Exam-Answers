{
 "cells": [
  {
   "cell_type": "markdown",
   "metadata": {},
   "source": [
    "<h3>AUGUST MAY 2023 </h3>"
   ]
  },
  {
   "cell_type": "markdown",
   "metadata": {},
   "source": [
    "<h3>SECTION A </h3>"
   ]
  },
  {
   "cell_type": "markdown",
   "metadata": {},
   "source": [
    "<h4>Part A. With examples explain each of the following in Databases</h4>"
   ]
  },
  {
   "cell_type": "markdown",
   "metadata": {},
   "source": [
    "<p>(a) A Database is a shared logical organization of data stored to meet the user needs </p>\n",
    "<p>(b) A Database Management System DBMS is a software that is used to create, define,access and manipulate the database </p>\n",
    "<p>(c)A Database Application Program  is an application designed to interact with a database by allowing users to create, read, update, and delete (CRUD) data stored within a database management system (DBMS) eg a CRM system.</p>\n",
    "<p>(d) A base Relation is a table that physically stores the actual data and doesn't rely on other tables or views for its existence. It's a persistent entity in the database. eg a customers table.</p>\n",
    "<p>(e) A view is a virtual table that is derived from a base relation or a combination of multiple base relations. It does not store data itself it’s just a stored query that pulls data from one or more base relations.Eg a products table from which we can create a view that shows only the products in the Electronics category.</p>"
   ]
  },
  {
   "cell_type": "markdown",
   "metadata": {},
   "source": []
  }
 ],
 "metadata": {
  "language_info": {
   "name": "python"
  }
 },
 "nbformat": 4,
 "nbformat_minor": 2
}
